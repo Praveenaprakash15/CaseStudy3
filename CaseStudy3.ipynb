{
  "nbformat": 4,
  "nbformat_minor": 0,
  "metadata": {
    "colab": {
      "name": "CaseStudy3.ipynb",
      "provenance": [],
      "collapsed_sections": []
    },
    "kernelspec": {
      "name": "python3",
      "display_name": "Python 3"
    },
    "language_info": {
      "name": "python"
    }
  },
  "cells": [
    {
      "cell_type": "code",
      "execution_count": null,
      "metadata": {
        "colab": {
          "base_uri": "https://localhost:8080/",
          "height": 206
        },
        "id": "zzhTxz01z5zs",
        "outputId": "ed48db41-4088-400d-fb95-dc6829775cba"
      },
      "outputs": [
        {
          "output_type": "execute_result",
          "data": {
            "text/plain": [
              "     Month      Region      Manager  Sales_before_digital_add(in $)  \\\n",
              "0  Month-1  Region - A  Manager - A                          132921   \n",
              "1  Month-2  Region - A  Manager - C                          149559   \n",
              "2  Month-3  Region - B  Manager - A                          146278   \n",
              "3  Month-4  Region - B  Manager - B                          152167   \n",
              "4  Month-5  Region - C  Manager - B                          159525   \n",
              "\n",
              "   Sales_After_digital_add(in $)  \n",
              "0                         270390  \n",
              "1                         223334  \n",
              "2                         244243  \n",
              "3                         231808  \n",
              "4                         258402  "
            ],
            "text/html": [
              "\n",
              "  <div id=\"df-f215154b-8a73-460b-841c-ed959e439607\">\n",
              "    <div class=\"colab-df-container\">\n",
              "      <div>\n",
              "<style scoped>\n",
              "    .dataframe tbody tr th:only-of-type {\n",
              "        vertical-align: middle;\n",
              "    }\n",
              "\n",
              "    .dataframe tbody tr th {\n",
              "        vertical-align: top;\n",
              "    }\n",
              "\n",
              "    .dataframe thead th {\n",
              "        text-align: right;\n",
              "    }\n",
              "</style>\n",
              "<table border=\"1\" class=\"dataframe\">\n",
              "  <thead>\n",
              "    <tr style=\"text-align: right;\">\n",
              "      <th></th>\n",
              "      <th>Month</th>\n",
              "      <th>Region</th>\n",
              "      <th>Manager</th>\n",
              "      <th>Sales_before_digital_add(in $)</th>\n",
              "      <th>Sales_After_digital_add(in $)</th>\n",
              "    </tr>\n",
              "  </thead>\n",
              "  <tbody>\n",
              "    <tr>\n",
              "      <th>0</th>\n",
              "      <td>Month-1</td>\n",
              "      <td>Region - A</td>\n",
              "      <td>Manager - A</td>\n",
              "      <td>132921</td>\n",
              "      <td>270390</td>\n",
              "    </tr>\n",
              "    <tr>\n",
              "      <th>1</th>\n",
              "      <td>Month-2</td>\n",
              "      <td>Region - A</td>\n",
              "      <td>Manager - C</td>\n",
              "      <td>149559</td>\n",
              "      <td>223334</td>\n",
              "    </tr>\n",
              "    <tr>\n",
              "      <th>2</th>\n",
              "      <td>Month-3</td>\n",
              "      <td>Region - B</td>\n",
              "      <td>Manager - A</td>\n",
              "      <td>146278</td>\n",
              "      <td>244243</td>\n",
              "    </tr>\n",
              "    <tr>\n",
              "      <th>3</th>\n",
              "      <td>Month-4</td>\n",
              "      <td>Region - B</td>\n",
              "      <td>Manager - B</td>\n",
              "      <td>152167</td>\n",
              "      <td>231808</td>\n",
              "    </tr>\n",
              "    <tr>\n",
              "      <th>4</th>\n",
              "      <td>Month-5</td>\n",
              "      <td>Region - C</td>\n",
              "      <td>Manager - B</td>\n",
              "      <td>159525</td>\n",
              "      <td>258402</td>\n",
              "    </tr>\n",
              "  </tbody>\n",
              "</table>\n",
              "</div>\n",
              "      <button class=\"colab-df-convert\" onclick=\"convertToInteractive('df-f215154b-8a73-460b-841c-ed959e439607')\"\n",
              "              title=\"Convert this dataframe to an interactive table.\"\n",
              "              style=\"display:none;\">\n",
              "        \n",
              "  <svg xmlns=\"http://www.w3.org/2000/svg\" height=\"24px\"viewBox=\"0 0 24 24\"\n",
              "       width=\"24px\">\n",
              "    <path d=\"M0 0h24v24H0V0z\" fill=\"none\"/>\n",
              "    <path d=\"M18.56 5.44l.94 2.06.94-2.06 2.06-.94-2.06-.94-.94-2.06-.94 2.06-2.06.94zm-11 1L8.5 8.5l.94-2.06 2.06-.94-2.06-.94L8.5 2.5l-.94 2.06-2.06.94zm10 10l.94 2.06.94-2.06 2.06-.94-2.06-.94-.94-2.06-.94 2.06-2.06.94z\"/><path d=\"M17.41 7.96l-1.37-1.37c-.4-.4-.92-.59-1.43-.59-.52 0-1.04.2-1.43.59L10.3 9.45l-7.72 7.72c-.78.78-.78 2.05 0 2.83L4 21.41c.39.39.9.59 1.41.59.51 0 1.02-.2 1.41-.59l7.78-7.78 2.81-2.81c.8-.78.8-2.07 0-2.86zM5.41 20L4 18.59l7.72-7.72 1.47 1.35L5.41 20z\"/>\n",
              "  </svg>\n",
              "      </button>\n",
              "      \n",
              "  <style>\n",
              "    .colab-df-container {\n",
              "      display:flex;\n",
              "      flex-wrap:wrap;\n",
              "      gap: 12px;\n",
              "    }\n",
              "\n",
              "    .colab-df-convert {\n",
              "      background-color: #E8F0FE;\n",
              "      border: none;\n",
              "      border-radius: 50%;\n",
              "      cursor: pointer;\n",
              "      display: none;\n",
              "      fill: #1967D2;\n",
              "      height: 32px;\n",
              "      padding: 0 0 0 0;\n",
              "      width: 32px;\n",
              "    }\n",
              "\n",
              "    .colab-df-convert:hover {\n",
              "      background-color: #E2EBFA;\n",
              "      box-shadow: 0px 1px 2px rgba(60, 64, 67, 0.3), 0px 1px 3px 1px rgba(60, 64, 67, 0.15);\n",
              "      fill: #174EA6;\n",
              "    }\n",
              "\n",
              "    [theme=dark] .colab-df-convert {\n",
              "      background-color: #3B4455;\n",
              "      fill: #D2E3FC;\n",
              "    }\n",
              "\n",
              "    [theme=dark] .colab-df-convert:hover {\n",
              "      background-color: #434B5C;\n",
              "      box-shadow: 0px 1px 3px 1px rgba(0, 0, 0, 0.15);\n",
              "      filter: drop-shadow(0px 1px 2px rgba(0, 0, 0, 0.3));\n",
              "      fill: #FFFFFF;\n",
              "    }\n",
              "  </style>\n",
              "\n",
              "      <script>\n",
              "        const buttonEl =\n",
              "          document.querySelector('#df-f215154b-8a73-460b-841c-ed959e439607 button.colab-df-convert');\n",
              "        buttonEl.style.display =\n",
              "          google.colab.kernel.accessAllowed ? 'block' : 'none';\n",
              "\n",
              "        async function convertToInteractive(key) {\n",
              "          const element = document.querySelector('#df-f215154b-8a73-460b-841c-ed959e439607');\n",
              "          const dataTable =\n",
              "            await google.colab.kernel.invokeFunction('convertToInteractive',\n",
              "                                                     [key], {});\n",
              "          if (!dataTable) return;\n",
              "\n",
              "          const docLinkHtml = 'Like what you see? Visit the ' +\n",
              "            '<a target=\"_blank\" href=https://colab.research.google.com/notebooks/data_table.ipynb>data table notebook</a>'\n",
              "            + ' to learn more about interactive tables.';\n",
              "          element.innerHTML = '';\n",
              "          dataTable['output_type'] = 'display_data';\n",
              "          await google.colab.output.renderOutput(dataTable, element);\n",
              "          const docLink = document.createElement('div');\n",
              "          docLink.innerHTML = docLinkHtml;\n",
              "          element.appendChild(docLink);\n",
              "        }\n",
              "      </script>\n",
              "    </div>\n",
              "  </div>\n",
              "  "
            ]
          },
          "metadata": {},
          "execution_count": 1
        }
      ],
      "source": [
        "import pandas as pd\n",
        "data=pd.read_csv('/content/sample_data/Sales_add.csv')\n",
        "data.head()"
      ]
    },
    {
      "cell_type": "code",
      "source": [
        "data.describe()"
      ],
      "metadata": {
        "colab": {
          "base_uri": "https://localhost:8080/",
          "height": 300
        },
        "id": "60xWLuL40K3o",
        "outputId": "c8f52f16-776f-47ff-b3d4-1dbcfbc2105e"
      },
      "execution_count": null,
      "outputs": [
        {
          "output_type": "execute_result",
          "data": {
            "text/plain": [
              "       Sales_before_digital_add(in $)  Sales_After_digital_add(in $)\n",
              "count                       22.000000                      22.000000\n",
              "mean                    149239.954545                  231123.727273\n",
              "std                      14844.042921                   25556.777061\n",
              "min                     130263.000000                  187305.000000\n",
              "25%                     138087.750000                  214960.750000\n",
              "50%                     147444.000000                  229986.500000\n",
              "75%                     157627.500000                  250909.000000\n",
              "max                     178939.000000                  276279.000000"
            ],
            "text/html": [
              "\n",
              "  <div id=\"df-db2f0704-d2b7-4d08-afe5-a4ed20b60ebc\">\n",
              "    <div class=\"colab-df-container\">\n",
              "      <div>\n",
              "<style scoped>\n",
              "    .dataframe tbody tr th:only-of-type {\n",
              "        vertical-align: middle;\n",
              "    }\n",
              "\n",
              "    .dataframe tbody tr th {\n",
              "        vertical-align: top;\n",
              "    }\n",
              "\n",
              "    .dataframe thead th {\n",
              "        text-align: right;\n",
              "    }\n",
              "</style>\n",
              "<table border=\"1\" class=\"dataframe\">\n",
              "  <thead>\n",
              "    <tr style=\"text-align: right;\">\n",
              "      <th></th>\n",
              "      <th>Sales_before_digital_add(in $)</th>\n",
              "      <th>Sales_After_digital_add(in $)</th>\n",
              "    </tr>\n",
              "  </thead>\n",
              "  <tbody>\n",
              "    <tr>\n",
              "      <th>count</th>\n",
              "      <td>22.000000</td>\n",
              "      <td>22.000000</td>\n",
              "    </tr>\n",
              "    <tr>\n",
              "      <th>mean</th>\n",
              "      <td>149239.954545</td>\n",
              "      <td>231123.727273</td>\n",
              "    </tr>\n",
              "    <tr>\n",
              "      <th>std</th>\n",
              "      <td>14844.042921</td>\n",
              "      <td>25556.777061</td>\n",
              "    </tr>\n",
              "    <tr>\n",
              "      <th>min</th>\n",
              "      <td>130263.000000</td>\n",
              "      <td>187305.000000</td>\n",
              "    </tr>\n",
              "    <tr>\n",
              "      <th>25%</th>\n",
              "      <td>138087.750000</td>\n",
              "      <td>214960.750000</td>\n",
              "    </tr>\n",
              "    <tr>\n",
              "      <th>50%</th>\n",
              "      <td>147444.000000</td>\n",
              "      <td>229986.500000</td>\n",
              "    </tr>\n",
              "    <tr>\n",
              "      <th>75%</th>\n",
              "      <td>157627.500000</td>\n",
              "      <td>250909.000000</td>\n",
              "    </tr>\n",
              "    <tr>\n",
              "      <th>max</th>\n",
              "      <td>178939.000000</td>\n",
              "      <td>276279.000000</td>\n",
              "    </tr>\n",
              "  </tbody>\n",
              "</table>\n",
              "</div>\n",
              "      <button class=\"colab-df-convert\" onclick=\"convertToInteractive('df-db2f0704-d2b7-4d08-afe5-a4ed20b60ebc')\"\n",
              "              title=\"Convert this dataframe to an interactive table.\"\n",
              "              style=\"display:none;\">\n",
              "        \n",
              "  <svg xmlns=\"http://www.w3.org/2000/svg\" height=\"24px\"viewBox=\"0 0 24 24\"\n",
              "       width=\"24px\">\n",
              "    <path d=\"M0 0h24v24H0V0z\" fill=\"none\"/>\n",
              "    <path d=\"M18.56 5.44l.94 2.06.94-2.06 2.06-.94-2.06-.94-.94-2.06-.94 2.06-2.06.94zm-11 1L8.5 8.5l.94-2.06 2.06-.94-2.06-.94L8.5 2.5l-.94 2.06-2.06.94zm10 10l.94 2.06.94-2.06 2.06-.94-2.06-.94-.94-2.06-.94 2.06-2.06.94z\"/><path d=\"M17.41 7.96l-1.37-1.37c-.4-.4-.92-.59-1.43-.59-.52 0-1.04.2-1.43.59L10.3 9.45l-7.72 7.72c-.78.78-.78 2.05 0 2.83L4 21.41c.39.39.9.59 1.41.59.51 0 1.02-.2 1.41-.59l7.78-7.78 2.81-2.81c.8-.78.8-2.07 0-2.86zM5.41 20L4 18.59l7.72-7.72 1.47 1.35L5.41 20z\"/>\n",
              "  </svg>\n",
              "      </button>\n",
              "      \n",
              "  <style>\n",
              "    .colab-df-container {\n",
              "      display:flex;\n",
              "      flex-wrap:wrap;\n",
              "      gap: 12px;\n",
              "    }\n",
              "\n",
              "    .colab-df-convert {\n",
              "      background-color: #E8F0FE;\n",
              "      border: none;\n",
              "      border-radius: 50%;\n",
              "      cursor: pointer;\n",
              "      display: none;\n",
              "      fill: #1967D2;\n",
              "      height: 32px;\n",
              "      padding: 0 0 0 0;\n",
              "      width: 32px;\n",
              "    }\n",
              "\n",
              "    .colab-df-convert:hover {\n",
              "      background-color: #E2EBFA;\n",
              "      box-shadow: 0px 1px 2px rgba(60, 64, 67, 0.3), 0px 1px 3px 1px rgba(60, 64, 67, 0.15);\n",
              "      fill: #174EA6;\n",
              "    }\n",
              "\n",
              "    [theme=dark] .colab-df-convert {\n",
              "      background-color: #3B4455;\n",
              "      fill: #D2E3FC;\n",
              "    }\n",
              "\n",
              "    [theme=dark] .colab-df-convert:hover {\n",
              "      background-color: #434B5C;\n",
              "      box-shadow: 0px 1px 3px 1px rgba(0, 0, 0, 0.15);\n",
              "      filter: drop-shadow(0px 1px 2px rgba(0, 0, 0, 0.3));\n",
              "      fill: #FFFFFF;\n",
              "    }\n",
              "  </style>\n",
              "\n",
              "      <script>\n",
              "        const buttonEl =\n",
              "          document.querySelector('#df-db2f0704-d2b7-4d08-afe5-a4ed20b60ebc button.colab-df-convert');\n",
              "        buttonEl.style.display =\n",
              "          google.colab.kernel.accessAllowed ? 'block' : 'none';\n",
              "\n",
              "        async function convertToInteractive(key) {\n",
              "          const element = document.querySelector('#df-db2f0704-d2b7-4d08-afe5-a4ed20b60ebc');\n",
              "          const dataTable =\n",
              "            await google.colab.kernel.invokeFunction('convertToInteractive',\n",
              "                                                     [key], {});\n",
              "          if (!dataTable) return;\n",
              "\n",
              "          const docLinkHtml = 'Like what you see? Visit the ' +\n",
              "            '<a target=\"_blank\" href=https://colab.research.google.com/notebooks/data_table.ipynb>data table notebook</a>'\n",
              "            + ' to learn more about interactive tables.';\n",
              "          element.innerHTML = '';\n",
              "          dataTable['output_type'] = 'display_data';\n",
              "          await google.colab.output.renderOutput(dataTable, element);\n",
              "          const docLink = document.createElement('div');\n",
              "          docLink.innerHTML = docLinkHtml;\n",
              "          element.appendChild(docLink);\n",
              "        }\n",
              "      </script>\n",
              "    </div>\n",
              "  </div>\n",
              "  "
            ]
          },
          "metadata": {},
          "execution_count": 2
        }
      ]
    },
    {
      "cell_type": "code",
      "source": [
        "data.isna().sum()"
      ],
      "metadata": {
        "colab": {
          "base_uri": "https://localhost:8080/"
        },
        "id": "M3YkDVjT0OqQ",
        "outputId": "cb100f72-d3b7-4bb8-ec74-6ae7286cb1c9"
      },
      "execution_count": null,
      "outputs": [
        {
          "output_type": "execute_result",
          "data": {
            "text/plain": [
              "Month                             0\n",
              "Region                            0\n",
              "Manager                           0\n",
              "Sales_before_digital_add(in $)    0\n",
              "Sales_After_digital_add(in $)     0\n",
              "dtype: int64"
            ]
          },
          "metadata": {},
          "execution_count": 3
        }
      ]
    },
    {
      "cell_type": "code",
      "source": [
        "data.info()"
      ],
      "metadata": {
        "colab": {
          "base_uri": "https://localhost:8080/"
        },
        "id": "bY3wGC6t0UDd",
        "outputId": "72583f37-73f1-413b-8984-42f06ea09d97"
      },
      "execution_count": null,
      "outputs": [
        {
          "output_type": "stream",
          "name": "stdout",
          "text": [
            "<class 'pandas.core.frame.DataFrame'>\n",
            "RangeIndex: 22 entries, 0 to 21\n",
            "Data columns (total 5 columns):\n",
            " #   Column                          Non-Null Count  Dtype \n",
            "---  ------                          --------------  ----- \n",
            " 0   Month                           22 non-null     object\n",
            " 1   Region                          22 non-null     object\n",
            " 2   Manager                         22 non-null     object\n",
            " 3   Sales_before_digital_add(in $)  22 non-null     int64 \n",
            " 4   Sales_After_digital_add(in $)   22 non-null     int64 \n",
            "dtypes: int64(2), object(3)\n",
            "memory usage: 1008.0+ bytes\n"
          ]
        }
      ]
    },
    {
      "cell_type": "code",
      "source": [
        "#checking for outliers\n",
        "import seaborn as sns\n",
        "sns.boxplot(y='Sales_before_digital_add(in $)',data=data).set(title='Sales_before_digital_add(in $)')"
      ],
      "metadata": {
        "colab": {
          "base_uri": "https://localhost:8080/",
          "height": 285
        },
        "id": "zbQR8AL_0aKn",
        "outputId": "0735641a-3727-4bea-d431-81ffdf8d627a"
      },
      "execution_count": 20,
      "outputs": [
        {
          "output_type": "execute_result",
          "data": {
            "text/plain": [
              "[Text(0.5, 1.0, 'Sales_before_digital_add(in $)')]"
            ]
          },
          "metadata": {},
          "execution_count": 20
        },
        {
          "output_type": "display_data",
          "data": {
            "text/plain": [
              "<Figure size 432x288 with 1 Axes>"
            ],
            "image/png": "[encoded data removed]"
          },
          "metadata": {
            "needs_background": "light"
          }
        }
      ]
    },
    {
      "cell_type": "code",
      "source": [
        "sns.boxplot(y='Sales_After_digital_add(in $)',data=data).set(title='Sales_After_digital_add(in $)')"
      ],
      "metadata": {
        "colab": {
          "base_uri": "https://localhost:8080/",
          "height": 285
        },
        "id": "MpR7DXyz82Tb",
        "outputId": "f8e9dd7b-7b3e-4373-8e2c-16bbd33c69fc"
      },
      "execution_count": 21,
      "outputs": [
        {
          "output_type": "execute_result",
          "data": {
            "text/plain": [
              "[Text(0.5, 1.0, 'Sales_After_digital_add(in $)')]"
            ]
          },
          "metadata": {},
          "execution_count": 21
        },
        {
          "output_type": "display_data",
          "data": {
            "text/plain": [
              "<Figure size 432x288 with 1 Axes>"
            ],
            "image/png": "[encoded data removed]"
          },
          "metadata": {
            "needs_background": "light"
          }
        }
      ]
    },
    {
      "cell_type": "code",
      "source": [
        "##from the graphs,we can conclude that there is no outliers in the dataset"
      ],
      "metadata": {
        "id": "eLAHyU1Q9Evh"
      },
      "execution_count": 22,
      "outputs": []
    },
    {
      "cell_type": "code",
      "source": [
        "#Checking whether there is any increase in sales after stepping into digital marketing.\n",
        "#H0:There is no increase in sales after stepping into digital marketing\n",
        "#Ha:There is increase in sales after stepping into digital marketing\n",
        "from scipy.stats import ttest_rel\n",
        "sales_before=data[['Sales_before_digital_add(in $)']]\n",
        "sales_after=data[['Sales_After_digital_add(in $)']]\n",
        "alpha=0.05\n",
        "t_score,p=ttest_rel(sales_after,sales_before)\n",
        "print('t_score=',t_score,'p=',p)"
      ],
      "metadata": {
        "colab": {
          "base_uri": "https://localhost:8080/"
        },
        "id": "yS4VJMCr9EqC",
        "outputId": "47c08f27-2c16-4509-c61f-841f7fd32ebb"
      },
      "execution_count": 46,
      "outputs": [
        {
          "output_type": "stream",
          "name": "stdout",
          "text": [
            "t_score= [12.09070525] p= [6.336667e-11]\n"
          ]
        }
      ]
    },
    {
      "cell_type": "code",
      "source": [
        "import scipy.stats\n",
        "t_critical=scipy.stats.t.ppf(q=0.05,df=21)\n",
        "if t_score > t_critical:\n",
        "    print(\"Rejecting the Null Hypothesis\")\n",
        "    print(\"So we conclude that there is increase in sales after stepping into digital marketing.\")\n",
        "else:\n",
        "    print(\"failing to reject the Null Hypothesis\")\n",
        "    print('So we conclude that there is no increase in sales after stepping into digital marketing. ')"
      ],
      "metadata": {
        "colab": {
          "base_uri": "https://localhost:8080/"
        },
        "id": "zZ-cIhJU9aY5",
        "outputId": "125045e0-f28c-460e-baa0-55b23b494630"
      },
      "execution_count": 61,
      "outputs": [
        {
          "output_type": "stream",
          "name": "stdout",
          "text": [
            "Rejecting the Null Hypothesis\n",
            "So we conclude that there is increase in sales after stepping into digital marketing.\n"
          ]
        }
      ]
    },
    {
      "cell_type": "code",
      "source": [
        "#Checking whether there is any dependency between the features “Region” and “Manager”.\n",
        "#H0:There is no dependency between the features “Region” and “Manager”\n",
        "#Ha:There is dependency between the features “Region” and “Manager”\n",
        "from scipy.stats import chi2_contingency\n",
        "alpha=0.05\n",
        "stat_value,p_value,df,expected=chi2_contingency(pd.crosstab(data.Region, data.Manager))\n",
        "print('stat_value=',stat_value,'p=',p_value,'df=',df,'expected values=',expected)"
      ],
      "metadata": {
        "colab": {
          "base_uri": "https://localhost:8080/"
        },
        "id": "XIIEPlCeP9A5",
        "outputId": "42beae52-3d01-4b28-9a05-673f5f5dd51a"
      },
      "execution_count": 51,
      "outputs": [
        {
          "output_type": "stream",
          "name": "stdout",
          "text": [
            "stat_value= 3.050566893424036 p= 0.5493991051158094 df= 4 expected values= [[4.09090909 3.18181818 2.72727273]\n",
            " [2.86363636 2.22727273 1.90909091]\n",
            " [2.04545455 1.59090909 1.36363636]]\n"
          ]
        }
      ]
    },
    {
      "cell_type": "code",
      "source": [
        "chi2_critical=scipy.stats.chi2.ppf(0.05,4)\n",
        "if stat_value>chi2_critical:\n",
        "  print('Rejecting the null hypothesis')\n",
        "  print('So we conclude that there is dependency between the features “Region” and “Manager”')\n",
        "else:\n",
        "    print('Failing to reject the null hypothesis' )\n",
        "    print('So we conclude that there is no dependency between the features “Region” and “Manager”')"
      ],
      "metadata": {
        "colab": {
          "base_uri": "https://localhost:8080/"
        },
        "id": "x-XNY9wOSmh2",
        "outputId": "38b98bd2-4740-4475-c887-504965236d83"
      },
      "execution_count": 59,
      "outputs": [
        {
          "output_type": "stream",
          "name": "stdout",
          "text": [
            "Rejecting the null hypothesis\n",
            "So we conclude that there is dependency between the features “Region” and “Manager”\n"
          ]
        }
      ]
    }
  ]
}